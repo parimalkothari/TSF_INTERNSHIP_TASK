{
 "cells": [
  {
   "cell_type": "markdown",
   "id": "d8703343",
   "metadata": {},
   "source": [
    "<font color='red'><h2>Data Science and Business Analytics Intern</h2></font></font>\n",
    "<font color='red'><h2>Task 1: Prediction using Supervised Machine Learning</h2></font>\n",
    "<font color='green'><h2>The Sparks Foundation - GRIP</h2></font>\n",
    "<br>\n",
    "<font color='green'><h2>PARIMAL KOTHARI<h2></font>\n"
   ]
  },
  {
   "cell_type": "markdown",
   "id": "144f6459",
   "metadata": {},
   "source": [
    "**TASK: PREDICT THE PERCENTAGE OF AN STUDENT BASED ON THE NO. OF STUDY HOURS**"
   ]
  },
  {
   "cell_type": "markdown",
   "id": "f6e599b7",
   "metadata": {},
   "source": [
    "&nbsp;"
   ]
  },
  {
   "cell_type": "markdown",
   "id": "5e8eaf35",
   "metadata": {},
   "source": [
    "**STEP 1: IMPORTING THE LIBRARIES**"
   ]
  },
  {
   "cell_type": "code",
   "execution_count": 266,
   "id": "e29028ac",
   "metadata": {},
   "outputs": [],
   "source": [
    "import pandas as pd\n",
    "import numpy as np\n",
    "import matplotlib.pyplot as plt\n",
    "from sklearn.linear_model import LinearRegression\n",
    "from sklearn.model_selection import train_test_split"
   ]
  },
  {
   "cell_type": "markdown",
   "id": "b27e95d8",
   "metadata": {},
   "source": [
    "**STEP 2: READING THE DATA FROM THE PROVIDED DATASET**"
   ]
  },
  {
   "cell_type": "code",
   "execution_count": 267,
   "id": "b0932a9e",
   "metadata": {
    "scrolled": true
   },
   "outputs": [
    {
     "name": "stdout",
     "output_type": "stream",
     "text": [
      "Data imported successfully\n"
     ]
    },
    {
     "data": {
      "text/html": [
       "<div>\n",
       "<style scoped>\n",
       "    .dataframe tbody tr th:only-of-type {\n",
       "        vertical-align: middle;\n",
       "    }\n",
       "\n",
       "    .dataframe tbody tr th {\n",
       "        vertical-align: top;\n",
       "    }\n",
       "\n",
       "    .dataframe thead th {\n",
       "        text-align: right;\n",
       "    }\n",
       "</style>\n",
       "<table border=\"1\" class=\"dataframe\">\n",
       "  <thead>\n",
       "    <tr style=\"text-align: right;\">\n",
       "      <th></th>\n",
       "      <th>Hours</th>\n",
       "      <th>Scores</th>\n",
       "    </tr>\n",
       "  </thead>\n",
       "  <tbody>\n",
       "    <tr>\n",
       "      <th>0</th>\n",
       "      <td>2.5</td>\n",
       "      <td>21</td>\n",
       "    </tr>\n",
       "    <tr>\n",
       "      <th>1</th>\n",
       "      <td>5.1</td>\n",
       "      <td>47</td>\n",
       "    </tr>\n",
       "    <tr>\n",
       "      <th>2</th>\n",
       "      <td>3.2</td>\n",
       "      <td>27</td>\n",
       "    </tr>\n",
       "    <tr>\n",
       "      <th>3</th>\n",
       "      <td>8.5</td>\n",
       "      <td>75</td>\n",
       "    </tr>\n",
       "    <tr>\n",
       "      <th>4</th>\n",
       "      <td>3.5</td>\n",
       "      <td>30</td>\n",
       "    </tr>\n",
       "    <tr>\n",
       "      <th>5</th>\n",
       "      <td>1.5</td>\n",
       "      <td>20</td>\n",
       "    </tr>\n",
       "    <tr>\n",
       "      <th>6</th>\n",
       "      <td>9.2</td>\n",
       "      <td>88</td>\n",
       "    </tr>\n",
       "    <tr>\n",
       "      <th>7</th>\n",
       "      <td>5.5</td>\n",
       "      <td>60</td>\n",
       "    </tr>\n",
       "    <tr>\n",
       "      <th>8</th>\n",
       "      <td>8.3</td>\n",
       "      <td>81</td>\n",
       "    </tr>\n",
       "    <tr>\n",
       "      <th>9</th>\n",
       "      <td>2.7</td>\n",
       "      <td>25</td>\n",
       "    </tr>\n",
       "  </tbody>\n",
       "</table>\n",
       "</div>"
      ],
      "text/plain": [
       "   Hours  Scores\n",
       "0    2.5      21\n",
       "1    5.1      47\n",
       "2    3.2      27\n",
       "3    8.5      75\n",
       "4    3.5      30\n",
       "5    1.5      20\n",
       "6    9.2      88\n",
       "7    5.5      60\n",
       "8    8.3      81\n",
       "9    2.7      25"
      ]
     },
     "execution_count": 267,
     "metadata": {},
     "output_type": "execute_result"
    }
   ],
   "source": [
    "link = \"http://bit.ly/w-data\"\n",
    "stud_data = pd.read_csv(link)\n",
    "print(\"Data imported successfully\")\n",
    "\n",
    "# check first Ten rows of data\n",
    "stud_data.head(10)"
   ]
  },
  {
   "cell_type": "code",
   "execution_count": 268,
   "id": "d9c06100",
   "metadata": {},
   "outputs": [
    {
     "data": {
      "text/html": [
       "<div>\n",
       "<style scoped>\n",
       "    .dataframe tbody tr th:only-of-type {\n",
       "        vertical-align: middle;\n",
       "    }\n",
       "\n",
       "    .dataframe tbody tr th {\n",
       "        vertical-align: top;\n",
       "    }\n",
       "\n",
       "    .dataframe thead th {\n",
       "        text-align: right;\n",
       "    }\n",
       "</style>\n",
       "<table border=\"1\" class=\"dataframe\">\n",
       "  <thead>\n",
       "    <tr style=\"text-align: right;\">\n",
       "      <th></th>\n",
       "      <th>Hours</th>\n",
       "      <th>Scores</th>\n",
       "    </tr>\n",
       "  </thead>\n",
       "  <tbody>\n",
       "    <tr>\n",
       "      <th>count</th>\n",
       "      <td>25.000000</td>\n",
       "      <td>25.000000</td>\n",
       "    </tr>\n",
       "    <tr>\n",
       "      <th>mean</th>\n",
       "      <td>5.012000</td>\n",
       "      <td>51.480000</td>\n",
       "    </tr>\n",
       "    <tr>\n",
       "      <th>std</th>\n",
       "      <td>2.525094</td>\n",
       "      <td>25.286887</td>\n",
       "    </tr>\n",
       "    <tr>\n",
       "      <th>min</th>\n",
       "      <td>1.100000</td>\n",
       "      <td>17.000000</td>\n",
       "    </tr>\n",
       "    <tr>\n",
       "      <th>25%</th>\n",
       "      <td>2.700000</td>\n",
       "      <td>30.000000</td>\n",
       "    </tr>\n",
       "    <tr>\n",
       "      <th>50%</th>\n",
       "      <td>4.800000</td>\n",
       "      <td>47.000000</td>\n",
       "    </tr>\n",
       "    <tr>\n",
       "      <th>75%</th>\n",
       "      <td>7.400000</td>\n",
       "      <td>75.000000</td>\n",
       "    </tr>\n",
       "    <tr>\n",
       "      <th>max</th>\n",
       "      <td>9.200000</td>\n",
       "      <td>95.000000</td>\n",
       "    </tr>\n",
       "  </tbody>\n",
       "</table>\n",
       "</div>"
      ],
      "text/plain": [
       "           Hours     Scores\n",
       "count  25.000000  25.000000\n",
       "mean    5.012000  51.480000\n",
       "std     2.525094  25.286887\n",
       "min     1.100000  17.000000\n",
       "25%     2.700000  30.000000\n",
       "50%     4.800000  47.000000\n",
       "75%     7.400000  75.000000\n",
       "max     9.200000  95.000000"
      ]
     },
     "execution_count": 268,
     "metadata": {},
     "output_type": "execute_result"
    }
   ],
   "source": [
    "stud_data.describe()"
   ]
  },
  {
   "cell_type": "markdown",
   "id": "7272ca74",
   "metadata": {},
   "source": [
    "**STEP 3: PREPARING THE DATA**"
   ]
  },
  {
   "cell_type": "code",
   "execution_count": 269,
   "id": "4bef2471",
   "metadata": {},
   "outputs": [],
   "source": [
    "X = stud_data.iloc[:, :-1].values\n",
    "y = stud_data.iloc[:, 1].values"
   ]
  },
  {
   "cell_type": "markdown",
   "id": "5a7d3d82",
   "metadata": {},
   "source": [
    "**STEP 4: SPLITTING DATA INTO TRAINING AND TEST SET**"
   ]
  },
  {
   "cell_type": "code",
   "execution_count": 270,
   "id": "48396902",
   "metadata": {},
   "outputs": [],
   "source": [
    "from sklearn.model_selection import train_test_split\n",
    "X_train, X_test, y_train, y_test = train_test_split(X,y, test_size=0.3, random_state = 0)"
   ]
  },
  {
   "cell_type": "markdown",
   "id": "5ebdad13",
   "metadata": {},
   "source": [
    "**STEP 5: TRAINING THE MODEL**"
   ]
  },
  {
   "cell_type": "code",
   "execution_count": 271,
   "id": "0b4bf102",
   "metadata": {},
   "outputs": [
    {
     "name": "stdout",
     "output_type": "stream",
     "text": [
      "Intercept(b): \n",
      " 2.370815382341881\n",
      "Coefficient(w): \n",
      " [9.78856669]\n",
      "Training complete.\n"
     ]
    }
   ],
   "source": [
    "from sklearn.linear_model import LinearRegression\n",
    "model = LinearRegression()\n",
    "model.fit(X_train, y_train)\n",
    "print(\"Intercept(b): \\n\",model.intercept_)\n",
    "print(\"Coefficient(w): \\n\",model.coef_)\n",
    "print(\"Training complete.\")"
   ]
  },
  {
   "cell_type": "markdown",
   "id": "0e1a580f",
   "metadata": {},
   "source": [
    "**STEP 6: VISUALIZING THE REGRESSION LINE USING TRAINING DATA**"
   ]
  },
  {
   "cell_type": "code",
   "execution_count": 272,
   "id": "958d264f",
   "metadata": {
    "scrolled": true
   },
   "outputs": [
    {
     "data": {
      "image/png": "[encoded data removed]",
      "text/plain": [
       "<Figure size 432x288 with 1 Axes>"
      ]
     },
     "metadata": {
      "needs_background": "light"
     },
     "output_type": "display_data"
    }
   ],
   "source": [
    "plt.scatter(X_train, y_train, color=\"red\",marker=\"*\")\n",
    "plt.plot(X_train, model.predict(X_train), color=\"blue\")\n",
    "plt.title(\"Hours vs Score\",size=15)\n",
    "plt.xlabel(\"Hours\",size=15)\n",
    "plt.ylabel(\"Percentage scored\",size=15)\n",
    "plt.show()"
   ]
  },
  {
   "cell_type": "markdown",
   "id": "5f0cb68d",
   "metadata": {},
   "source": [
    "**VISUALIZING THE REGRESSION LINE USING TESTING DATA**"
   ]
  },
  {
   "cell_type": "code",
   "execution_count": 273,
   "id": "ae449a54",
   "metadata": {},
   "outputs": [
    {
     "data": {
      "image/png": "[encoded data removed]",
      "text/plain": [
       "<Figure size 432x288 with 1 Axes>"
      ]
     },
     "metadata": {
      "needs_background": "light"
     },
     "output_type": "display_data"
    }
   ],
   "source": [
    "plt.scatter(X_test, y_test, color=\"red\",marker=\"*\")\n",
    "plt.plot(X_test, model.predict(X_test), color=\"blue\")\n",
    "plt.title(\"Hours vs Score\",size=15)\n",
    "plt.xlabel(\"Hours\",size=15)\n",
    "plt.ylabel(\"Percentage scored\",size=15)\n",
    "plt.show()"
   ]
  },
  {
   "cell_type": "markdown",
   "id": "d25d165a",
   "metadata": {},
   "source": [
    "**STEP 7: MAKING THE PREDICTIONS**"
   ]
  },
  {
   "cell_type": "code",
   "execution_count": 274,
   "id": "eb4b7862",
   "metadata": {},
   "outputs": [
    {
     "name": "stdout",
     "output_type": "stream",
     "text": [
      "   Actual  Predicted\n",
      "0      20  17.053665\n",
      "1      27  33.694229\n",
      "2      69  74.806209\n",
      "3      30  26.842232\n",
      "4      62  60.123359\n",
      "5      35  39.567369\n",
      "6      24  20.969092\n",
      "7      86  78.721636\n"
     ]
    }
   ],
   "source": [
    "y_predicted= model.predict(X_test)\n",
    "df= pd.DataFrame({'Actual': y_test,'Predicted': y_predicted})\n",
    "print(df)"
   ]
  },
  {
   "cell_type": "markdown",
   "id": "ee528d47",
   "metadata": {},
   "source": [
    "**STEP 8: PREDICTING SCORES FOR STUDING 9.25 HRS/DAY**"
   ]
  },
  {
   "cell_type": "code",
   "execution_count": 275,
   "id": "6f83f6b6",
   "metadata": {},
   "outputs": [
    {
     "name": "stdout",
     "output_type": "stream",
     "text": [
      "Predicted Score for 9.25 Hours is 92.91505723477056\n"
     ]
    }
   ],
   "source": [
    "hours = 9.25\n",
    "prediction = model.predict(np.array([[hours]]))\n",
    "\n",
    "# Printing the result\n",
    "print(f'Predicted Score for 9.25 Hours is {prediction[0]}')"
   ]
  },
  {
   "cell_type": "markdown",
   "id": "6ba2a09b",
   "metadata": {},
   "source": [
    "**STEP 9: EVALUATING THE MODEL**"
   ]
  },
  {
   "cell_type": "code",
   "execution_count": 276,
   "id": "7be91062",
   "metadata": {},
   "outputs": [
    {
     "name": "stdout",
     "output_type": "stream",
     "text": [
      "Accuracy of the model is: 95.29426789332803\n",
      "Mean Absolute Error: 4.419727808027652\n"
     ]
    }
   ],
   "source": [
    "print('Accuracy of the model is:',(model.score(X, y)*100))\n",
    "from sklearn import metrics  \n",
    "print('Mean Absolute Error:',metrics.mean_absolute_error(y_test, y_predicted)) "
   ]
  }
 ],
 "metadata": {
  "kernelspec": {
   "display_name": "Python 3 (ipykernel)",
   "language": "python",
   "name": "python3"
  },
  "language_info": {
   "codemirror_mode": {
    "name": "ipython",
    "version": 3
   },
   "file_extension": ".py",
   "mimetype": "text/x-python",
   "name": "python",
   "nbconvert_exporter": "python",
   "pygments_lexer": "ipython3",
   "version": "3.10.2"
  }
 },
 "nbformat": 4,
 "nbformat_minor": 5
}
